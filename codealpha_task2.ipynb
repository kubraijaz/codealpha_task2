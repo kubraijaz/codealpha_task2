{
  "nbformat": 4,
  "nbformat_minor": 0,
  "metadata": {
    "colab": {
      "provenance": []
    },
    "kernelspec": {
      "name": "python3",
      "display_name": "Python 3"
    },
    "language_info": {
      "name": "python"
    }
  },
  "cells": [
    {
      "cell_type": "code",
      "execution_count": 1,
      "metadata": {
        "colab": {
          "base_uri": "https://localhost:8080/"
        },
        "id": "m2qDIejuf3np",
        "outputId": "518617e3-a264-451d-f059-03f6db08a08b"
      },
      "outputs": [
        {
          "output_type": "stream",
          "name": "stdout",
          "text": [
            "\n",
            "Options: 1-Add Stock  2-Remove Stock  3-View Portfolio  4-Exit\n",
            "Choose an option: 1\n",
            "Enter stock symbol (e.g., AAPL, TSLA): AAPL\n",
            "Enter quantity: 3\n",
            "Added 3 shares of AAPL.\n",
            "\n",
            "Options: 1-Add Stock  2-Remove Stock  3-View Portfolio  4-Exit\n",
            "Choose an option: 1\n",
            "Enter stock symbol (e.g., AAPL, TSLA): TSLA\n",
            "Enter quantity: 2\n",
            "Added 2 shares of TSLA.\n",
            "\n",
            "Options: 1-Add Stock  2-Remove Stock  3-View Portfolio  4-Exit\n",
            "Choose an option: 2\n",
            "Enter stock symbol: AAPL\n",
            "Enter quantity to remove: 2\n",
            "Removed 2 shares of AAPL.\n",
            "\n",
            "Options: 1-Add Stock  2-Remove Stock  3-View Portfolio  4-Exit\n",
            "Choose an option: 3\n",
            "\n",
            "Your Stock Portfolio:\n",
            "AAPL: 1 shares @ $233.40 each | Total Value: $233.40\n",
            "TSLA: 2 shares @ $331.20 each | Total Value: $662.40\n",
            "\n",
            "Options: 1-Add Stock  2-Remove Stock  3-View Portfolio  4-Exit\n",
            "Choose an option: 4\n",
            "Exiting the program.\n"
          ]
        }
      ],
      "source": [
        "# Stock Portfolio Tracker\n",
        "import yfinance as yf\n",
        "\n",
        "class StockPortfolio:\n",
        "    def __init__(self):\n",
        "        self.portfolio = {}\n",
        "\n",
        "    def add_stock(self, symbol, quantity):\n",
        "        if symbol in self.portfolio:\n",
        "            self.portfolio[symbol] += quantity\n",
        "        else:\n",
        "            self.portfolio[symbol] = quantity\n",
        "        print(f\"Added {quantity} shares of {symbol}.\")\n",
        "\n",
        "    def remove_stock(self, symbol, quantity):\n",
        "        if symbol in self.portfolio:\n",
        "            if self.portfolio[symbol] > quantity:\n",
        "                self.portfolio[symbol] -= quantity\n",
        "                print(f\"Removed {quantity} shares of {symbol}.\")\n",
        "            else:\n",
        "                del self.portfolio[symbol]\n",
        "                print(f\"Removed all shares of {symbol}.\")\n",
        "        else:\n",
        "            print(\"Stock not found in portfolio.\")\n",
        "\n",
        "    def view_portfolio(self):\n",
        "        if not self.portfolio:\n",
        "            print(\"Your portfolio is empty.\")\n",
        "            return\n",
        "\n",
        "        print(\"\\nYour Stock Portfolio:\")\n",
        "        for symbol, quantity in self.portfolio.items():\n",
        "            stock = yf.Ticker(symbol)\n",
        "            current_price = stock.history(period='1d')['Close'].iloc[-1]\n",
        "            total_value = quantity * current_price\n",
        "            print(f\"{symbol}: {quantity} shares @ ${current_price:.2f} each | Total Value: ${total_value:.2f}\")\n",
        "\n",
        "if __name__ == \"__main__\":\n",
        "    portfolio = StockPortfolio()\n",
        "    while True:\n",
        "        print(\"\\nOptions: 1-Add Stock  2-Remove Stock  3-View Portfolio  4-Exit\")\n",
        "        choice = input(\"Choose an option: \")\n",
        "\n",
        "        if choice == \"1\":\n",
        "            symbol = input(\"Enter stock symbol (e.g., AAPL, TSLA): \").upper()\n",
        "            quantity = int(input(\"Enter quantity: \"))\n",
        "            portfolio.add_stock(symbol, quantity)\n",
        "        elif choice == \"2\":\n",
        "            symbol = input(\"Enter stock symbol: \").upper()\n",
        "            quantity = int(input(\"Enter quantity to remove: \"))\n",
        "            portfolio.remove_stock(symbol, quantity)\n",
        "        elif choice == \"3\":\n",
        "            portfolio.view_portfolio()\n",
        "        elif choice == \"4\":\n",
        "            print(\"Exiting the program.\")\n",
        "            break\n",
        "        else:\n",
        "            print(\"Invalid option, please try again.\")"
      ]
    },
    {
      "cell_type": "code",
      "source": [],
      "metadata": {
        "id": "qHNo8Om9gCRv"
      },
      "execution_count": null,
      "outputs": []
    }
  ]
}